{
 "cells": [
  {
   "cell_type": "markdown",
   "id": "5c2756db",
   "metadata": {},
   "source": [
    "Install OpenAI Agents Dep."
   ]
  },
  {
   "cell_type": "code",
   "execution_count": null,
   "id": "942c9b1a",
   "metadata": {},
   "outputs": [],
   "source": [
    "!pip install -Uq openai-agents"
   ]
  },
  {
   "cell_type": "code",
   "execution_count": null,
   "id": "8280d12e",
   "metadata": {},
   "outputs": [],
   "source": [
    "import nest_asyncio\n",
    "nest_asyncio.apply()"
   ]
  },
  {
   "cell_type": "markdown",
   "id": "20b77384",
   "metadata": {},
   "source": [
    "Provider Config"
   ]
  },
  {
   "cell_type": "code",
   "execution_count": null,
   "id": "bcdd1cf7",
   "metadata": {},
   "outputs": [],
   "source": [
    "from google.colab import userdata\n",
    "\n",
    "OPENROUTER_API_KEY = userdata.get(\"OPENROUTER_API_KEY\")\n",
    "     \n",
    "\n",
    "#Reference: https://openrouter.ai/docs/quickstart\n",
    "\n",
    "BASE_URL = \"https://openrouter.ai/api/v1\"\n",
    "MODEL = \"google/gemini-2.0-flash-lite-preview-02-05:free\"\n",
    "\n",
    "# Some other free models on 26th March:\n",
    "# https://openrouter.ai/deepseek/deepseek-chat-v3-0324:free\n",
    "# https://openrouter.ai/google/gemini-2.5-pro-exp-03-25:free\n",
    "     \n"
   ]
  },
  {
   "cell_type": "code",
   "execution_count": null,
   "id": "327c3f53",
   "metadata": {},
   "outputs": [],
   "source": [
    "Using the OpenRouter API directly"
   ]
  },
  {
   "cell_type": "code",
   "execution_count": null,
   "id": "cc9d7fa3",
   "metadata": {},
   "outputs": [],
   "source": [
    "import requests\n",
    "import json\n",
    "\n",
    "response = requests.post(\n",
    "  url=f\"{BASE_URL}/chat/completions\",\n",
    "  headers={\n",
    "    \"Authorization\": f\"Bearer {OPENROUTER_API_KEY}\",\n",
    "  },\n",
    "  data=json.dumps({\n",
    "    \"model\": MODEL,\n",
    "    \"messages\": [\n",
    "      {\n",
    "        \"role\": \"user\",\n",
    "        \"content\": \"What is the meaning of life?\"\n",
    "      }\n",
    "    ]\n",
    "  })\n",
    ")\n",
    "\n",
    "print(response.json())"
   ]
  },
  {
   "cell_type": "code",
   "execution_count": null,
   "id": "2ce6764e",
   "metadata": {},
   "outputs": [],
   "source": [
    "data = response.json()\n",
    "data['choices'][0]['message']['content']"
   ]
  },
  {
   "cell_type": "markdown",
   "id": "f8145972",
   "metadata": {},
   "source": [
    "2. Using OpenAI Agents SDK"
   ]
  },
  {
   "cell_type": "code",
   "execution_count": 2,
   "id": "14dae984",
   "metadata": {},
   "outputs": [
    {
     "ename": "ModuleNotFoundError",
     "evalue": "No module named 'openai'",
     "output_type": "error",
     "traceback": [
      "\u001b[31m---------------------------------------------------------------------------\u001b[39m",
      "\u001b[31mModuleNotFoundError\u001b[39m                       Traceback (most recent call last)",
      "\u001b[36mCell\u001b[39m\u001b[36m \u001b[39m\u001b[32mIn[2]\u001b[39m\u001b[32m, line 2\u001b[39m\n\u001b[32m      1\u001b[39m \u001b[38;5;28;01mimport\u001b[39;00m\u001b[38;5;250m \u001b[39m\u001b[34;01masyncio\u001b[39;00m\n\u001b[32m----> \u001b[39m\u001b[32m2\u001b[39m \u001b[38;5;28;01mfrom\u001b[39;00m\u001b[38;5;250m \u001b[39m\u001b[34;01mopenai\u001b[39;00m\u001b[38;5;250m \u001b[39m\u001b[38;5;28;01mimport\u001b[39;00m AsyncOpenAI\n\u001b[32m      3\u001b[39m \u001b[38;5;28;01mfrom\u001b[39;00m\u001b[38;5;250m \u001b[39m\u001b[34;01magents\u001b[39;00m\u001b[38;5;250m \u001b[39m\u001b[38;5;28;01mimport\u001b[39;00m Agent, OpenAIChatCompletionsModel, Runner, set_tracing_disabled\n\u001b[32m      5\u001b[39m client = AsyncOpenAI(\n\u001b[32m      6\u001b[39m     api_key=OPENROUTER_API_KEY,\n\u001b[32m      7\u001b[39m     base_url=BASE_URL\n\u001b[32m      8\u001b[39m )\n",
      "\u001b[31mModuleNotFoundError\u001b[39m: No module named 'openai'"
     ]
    }
   ],
   "source": [
    "import asyncio\n",
    "from openai import AsyncOpenAI\n",
    "from agents import Agent, OpenAIChatCompletionsModel, Runner, set_tracing_disabled\n",
    "\n",
    "client = AsyncOpenAI(\n",
    "    api_key=OPENROUTER_API_KEY,\n",
    "    base_url=BASE_URL\n",
    ")\n",
    "\n",
    "set_tracing_disabled(disabled=True)\n",
    "\n",
    "async def main():\n",
    "    # This agent will use the custom LLM provider\n",
    "    agent = Agent(\n",
    "        name=\"Assistant\",\n",
    "        instructions=\"You only respond in haikus.\",\n",
    "        model=OpenAIChatCompletionsModel(model=MODEL, openai_client=client),\n",
    "    )\n",
    "\n",
    "    result = await Runner.run(\n",
    "        agent,\n",
    "        \"Tell me about recursion in programming.\",\n",
    "    )\n",
    "    print(result.final_output)\n",
    "\n",
    "\n",
    "if __name__ == \"__main__\":\n",
    "    asyncio.run(main())"
   ]
  },
  {
   "cell_type": "code",
   "execution_count": null,
   "id": "0d777d62",
   "metadata": {},
   "outputs": [
    {
     "ename": "ModuleNotFoundError",
     "evalue": "No module named 'dotenv'",
     "output_type": "error",
     "traceback": [
      "\u001b[31m---------------------------------------------------------------------------\u001b[39m",
      "\u001b[31mModuleNotFoundError\u001b[39m                       Traceback (most recent call last)",
      "\u001b[36mCell\u001b[39m\u001b[36m \u001b[39m\u001b[32mIn[1]\u001b[39m\u001b[32m, line 1\u001b[39m\n\u001b[32m----> \u001b[39m\u001b[32m1\u001b[39m \u001b[38;5;28;01mfrom\u001b[39;00m\u001b[38;5;250m \u001b[39m\u001b[34;01mdotenv\u001b[39;00m\u001b[38;5;250m \u001b[39m\u001b[38;5;28;01mimport\u001b[39;00m load_dotenv\n\u001b[32m      2\u001b[39m \u001b[38;5;28;01mimport\u001b[39;00m\u001b[38;5;250m \u001b[39m\u001b[34;01mos\u001b[39;00m\n\u001b[32m      3\u001b[39m \u001b[38;5;28;01mfrom\u001b[39;00m\u001b[38;5;250m \u001b[39m\u001b[34;01magents\u001b[39;00m\u001b[38;5;250m \u001b[39m\u001b[38;5;28;01mimport\u001b[39;00m Agent, Runner, AsyncOpenAI, OpenAIChatCompletionsModel, RunConfig\n",
      "\u001b[31mModuleNotFoundError\u001b[39m: No module named 'dotenv'"
     ]
    }
   ],
   "source": [
    "from dotenv import load_dotenv\n",
    "import os\n",
    "from agents import Agent, Runner, AsyncOpenAI, OpenAIChatCompletionsModel, RunConfig\n",
    "\n",
    "load_dotenv()\n",
    "openrouter_api_key = os.getenv(\"OPENROUTER_API_KEY\")\n",
    "\n",
    "# Check If Key Exits\n",
    "if not openrouter_api_key:\n",
    "    raise ValueError(\"OPENROUTER_API_KEY Not Set. Please Ensure Defined Your .env file\")\n",
    "\n",
    "# Setup OpenRouter Client ( Like OpenAI , But Via OpenRouter )\n",
    "external_client = AsyncOpenAI(\n",
    "    api_key=openrouter_api_key,\n",
    "    base_url=\"https://openrouter.ai/api/v1\",\n",
    ")\n",
    "\n",
    "# Chose Any OpenRouter-Supported Model\n",
    "model = OpenAIChatCompletionsModel(\n",
    "    model=\"opengvlab/internvl3-14b:free\",\n",
    "    openai_client=external_client\n",
    ")\n",
    "\n",
    "# Steup Config\n",
    "config = RunConfig(\n",
    "    model=model,\n",
    "    model_provider=external_client,\n",
    "    tracing_disabled=True\n",
    ")\n",
    "\n",
    "agent = Agent(\n",
    "    name = \"Chief - X2 Writer Agent\",\n",
    "    instructions = \"You Are A Writer Agent. Generate Stories, Novels, Urdu Spy Series ETC.\"\n",
    ")\n",
    "\n",
    "response = Runner.run_sync(\n",
    "    agent,\n",
    "    input = \"Write A Short Story Introduction Imran Series SPY Novel In Urdu & English\",\n",
    "    run_config = config\n",
    ")\n",
    "\n",
    "print(response)"
   ]
  }
 ],
 "metadata": {
  "kernelspec": {
   "display_name": "Python 3 (ipykernel)",
   "language": "python",
   "name": "python3"
  },
  "language_info": {
   "codemirror_mode": {
    "name": "ipython",
    "version": 3
   },
   "file_extension": ".py",
   "mimetype": "text/x-python",
   "name": "python",
   "nbconvert_exporter": "python",
   "pygments_lexer": "ipython3",
   "version": "3.12.1"
  }
 },
 "nbformat": 4,
 "nbformat_minor": 5
}
