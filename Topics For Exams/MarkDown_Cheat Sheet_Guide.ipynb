{
 "cells": [
  {
   "cell_type": "code",
   "execution_count": null,
   "id": "05200c48",
   "metadata": {
    "vscode": {
     "languageId": "plaintext"
    }
   },
   "outputs": [],
   "source": []
  },
  {
   "cell_type": "code",
   "execution_count": null,
   "id": "83f3d181",
   "metadata": {
    "vscode": {
     "languageId": "plaintext"
    }
   },
   "outputs": [],
   "source": [
    "\n",
    "Markdown Cheat Sheet\n",
    "\n",
    "A quick reference to the Markdown syntax.\n",
    "Overview\n",
    "\n",
    "This Markdown cheat sheet provides a quick overview of all the Markdown syntax elements. It can’t cover every edge case, so if you need more information about any of these elements, refer to the reference guides for basic syntax and extended syntax.\n",
    "Basic Syntax\n",
    "\n",
    "These are the elements outlined in John Gruber’s original design document. All Markdown applications support these elements.\n",
    "Element \tMarkdown Syntax\n",
    "Heading \t# H1\n",
    "## H2\n",
    "### H3\n",
    "Bold \t**bold text**\n",
    "Italic \t*italicized text*\n",
    "Blockquote \t> blockquote\n",
    "Ordered List \t1. First item\n",
    "2. Second item\n",
    "3. Third item\n",
    "Unordered List \t- First item\n",
    "- Second item\n",
    "- Third item\n",
    "Code \t`code`\n",
    "Horizontal Rule \t---\n",
    "Link \t[title](https://www.example.com)\n",
    "Image \t![alt text](image.jpg)\n",
    "Extended Syntax\n",
    "\n",
    "These elements extend the basic syntax by adding additional features. Not all Markdown applications support these elements.\n",
    "Element \tMarkdown Syntax\n",
    "Table \t| Syntax | Description |\n",
    "| ----------- | ----------- |\n",
    "| Header | Title |\n",
    "| Paragraph | Text |\n",
    "Fenced Code Block \t```\n",
    "{\n",
    "  \"firstName\": \"John\",\n",
    "  \"lastName\": \"Smith\",\n",
    "  \"age\": 25\n",
    "}\n",
    "```\n",
    "Footnote \tHere's a sentence with a footnote. [^1]\n",
    "\n",
    "[^1]: This is the footnote.\n",
    "Heading ID \t### My Great Heading {#custom-id}\n",
    "Definition List \tterm\n",
    ": definition\n",
    "Strikethrough \t~~The world is flat.~~\n",
    "Task List \t- [x] Write the press release\n",
    "- [ ] Update the website\n",
    "- [ ] Contact the media\n",
    "Emoji\n",
    "(see also Copying and Pasting Emoji) \tThat is so funny! :joy:\n",
    "Highlight \tI need to highlight these ==very important words==.\n",
    "Subscript \tH~2~O\n",
    "Superscript \tX^2^ "
   ]
  }
 ],
 "metadata": {
  "language_info": {
   "name": "python"
  }
 },
 "nbformat": 4,
 "nbformat_minor": 5
}
