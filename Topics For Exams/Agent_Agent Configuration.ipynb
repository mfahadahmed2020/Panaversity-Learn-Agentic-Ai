{
 "cells": [
  {
   "cell_type": "markdown",
   "id": "314138e6",
   "metadata": {},
   "source": [
    "Agents\n",
    "\n",
    "Agents are the core building block in your apps. An agent is a large language model (LLM), configured with instructions and tools.\n",
    "\n",
    "Basic configuration\n",
    "\n",
    "The most common properties of an agent you'll configure are:\n",
    "\n",
    "name: A required string that identifies your agent.\n",
    "instructions: also known as a developer message or system prompt.\n",
    "model: which LLM to use, and optional model_settings to configure model tuning parameters like temperature, top_p, etc.\n",
    "\n",
    "tools: Tools that the agent can use to achieve its tasks.\n",
    "\n",
    "ایجنٹس\n",
    "\n",
    "ایجنٹ آپ کی ایپس میں بنیادی تعمیراتی بلاک ہیں۔ ایجنٹ ایک بڑی لینگویج ماڈل (LLM) ہے، جسے ہدایات اور ٹولز کے ساتھ ترتیب دیا گیا ہے۔\n",
    "\n",
    "بنیادی ترتیب\n",
    "\n",
    "ایک ایجنٹ کی سب سے عام خصوصیات جو آپ ترتیب دیں گے یہ ہیں:\n",
    "\n",
    "نام: ایک مطلوبہ تار جو آپ کے ایجنٹ کی شناخت کرتا ہے۔\n",
    "\n",
    "ہدایات: ڈویلپر پیغام یا سسٹم پرامپٹ کے نام سے بھی جانا جاتا ہے۔\n",
    "\n",
    "ماڈل: کون سا LLM استعمال کرنا ہے، اور ماڈل ٹیوننگ پیرامیٹرز جیسے درجہ حرارت، top_p، وغیرہ کو ترتیب دینے کے لیے اختیاری model_settings۔\n",
    "اوزار: وہ اوزار جو ایجنٹ اپنے کاموں کو حاصل کرنے کے لیے استعمال کر سکتا ہے۔"
   ]
  },
  {
   "cell_type": "code",
   "execution_count": null,
   "id": "f4d17a80",
   "metadata": {},
   "outputs": [
    {
     "ename": "",
     "evalue": "",
     "output_type": "error",
     "traceback": [
      "\u001b[1;31mFailed to start the Kernel. \n",
      "\u001b[1;31mThe kernel died. Error: ... View Jupyter <a href='command:jupyter.viewOutput'>log</a> for further details."
     ]
    }
   ],
   "source": [
    "from agents import Agent, ModelSettings, function_tool\n",
    "\n",
    "@function_tool\n",
    "def get_weather(city: str) -> str:\n",
    "    \"\"\"returns weather info for the specified city.\"\"\"\n",
    "    return f\"The weather in {city} is sunny\"\n",
    "\n",
    "agent = Agent(\n",
    "    name=\"Haiku agent\",\n",
    "    instructions=\"Always respond in haiku form\",\n",
    "    model=\"o3-mini\",\n",
    "    tools=[get_weather],\n",
    ")"
   ]
  },
  {
   "cell_type": "markdown",
   "id": "5e7f0365",
   "metadata": {},
   "source": [
    "Context\n",
    "\n",
    "Agents are generic on their context type. Context is a dependency-injection tool: it's an object you create and pass to Runner.run(), that is passed to every agent, tool, handoff etc, and it serves as a grab bag of dependencies and state for the agent run. You can provide any Python object as the context.\n",
    "\n",
    "سیاق و سباق\n",
    "\n",
    "ایجنٹ اپنے سیاق و سباق کی قسم پر عام ہوتے ہیں۔ سیاق و سباق ایک انحصاری انجیکشن ٹول ہے: یہ ایک ایسی چیز ہے جسے آپ بناتے ہیں اور Runner.run() کو پاس کرتے ہیں، جو ہر ایجنٹ، ٹول، ہینڈ آف وغیرہ کو دیا جاتا ہے، اور یہ ایجنٹ چلانے کے لیے انحصار اور ریاست کے گراب بیگ کے طور پر کام کرتا ہے۔ آپ سیاق و سباق کے طور پر کوئی بھی ازگر آبجیکٹ فراہم کر سکتے ہیں۔"
   ]
  },
  {
   "cell_type": "code",
   "execution_count": null,
   "id": "7dc44d4e",
   "metadata": {},
   "outputs": [],
   "source": [
    "@dataclass\n",
    "class UserContext:\n",
    "    name: str\n",
    "    uid: str\n",
    "    is_pro_user: bool\n",
    "\n",
    "    async def fetch_purchases() -> list[Purchase]:\n",
    "        return ...\n",
    "\n",
    "agent = Agent[UserContext](\n",
    "    ...,\n",
    ")"
   ]
  },
  {
   "cell_type": "markdown",
   "id": "71b1fcfa",
   "metadata": {},
   "source": [
    "Output types\n",
    "\n",
    "By default, agents produce plain text (i.e. str) outputs. If you want the agent to produce a particular type of output, you can use the output_type parameter. A common choice is to use Pydantic objects, but we support any type that can be wrapped in a Pydantic TypeAdapter - dataclasses, lists, TypedDict, etc.\n",
    "\n",
    "آؤٹ پٹ کی اقسام\n",
    "\n",
    "پہلے سے طے شدہ طور پر، ایجنٹ سادہ متن (یعنی str) آؤٹ پٹ تیار کرتے ہیں۔ اگر آپ چاہتے ہیں کہ ایجنٹ ایک خاص قسم کی آؤٹ پٹ پیدا کرے، تو آپ output_type پیرامیٹر استعمال کر سکتے ہیں۔ ایک عام انتخاب Pydantic اشیاء کا استعمال کرنا ہے، لیکن ہم کسی بھی قسم کی حمایت کرتے ہیں جسے Pydantic TypeAdapter میں لپیٹا جا سکتا ہے - ڈیٹا کلاسز، فہرستیں، TypedDict، وغیرہ۔"
   ]
  },
  {
   "cell_type": "code",
   "execution_count": null,
   "id": "8b15910c",
   "metadata": {},
   "outputs": [],
   "source": [
    "from pydantic import BaseModel\n",
    "from agents import Agent\n",
    "\n",
    "\n",
    "class CalendarEvent(BaseModel):\n",
    "    name: str\n",
    "    date: str\n",
    "    participants: list[str]\n",
    "\n",
    "agent = Agent(\n",
    "    name=\"Calendar extractor\",\n",
    "    instructions=\"Extract calendar events from text\",\n",
    "    output_type=CalendarEvent,\n",
    ")"
   ]
  },
  {
   "cell_type": "markdown",
   "id": "db2e95d8",
   "metadata": {},
   "source": [
    "Multi-agent system design patterns\n",
    "\n",
    "There are many ways to design multi‑agent systems, but we commonly see two broadly applicable patterns:\n",
    "\n",
    "Manager (agents as tools): A central manager/orchestrator invokes specialized sub‑agents as tools and retains control of the conversation.\n",
    "\n",
    "Handoffs: Peer agents hand off control to a specialized agent that takes over the conversation. This is decentralized.\n",
    "\n",
    "See our practical guide to building agents for more details.\n",
    "\n",
    "Manager (agents as tools)\n",
    "\n",
    "The customer_facing_agent handles all user interaction and invokes specialized sub‑agents exposed as tools. Read more in the tools documentation.\n",
    "\n",
    "ملٹی ایجنٹ سسٹم ڈیزائن پیٹرن\n",
    "\n",
    "ملٹی ایجنٹ سسٹمز کو ڈیزائن کرنے کے بہت سے طریقے ہیں، لیکن ہم عام طور پر دو وسیع پیمانے پر قابل اطلاق نمونے دیکھتے ہیں:\n",
    "\n",
    "مینیجر (ایجنٹس بطور ٹولز): ایک مرکزی مینیجر/آرکیسٹریٹر خصوصی ذیلی ایجنٹوں کو بطور اوزار طلب کرتا ہے اور گفتگو کا کنٹرول برقرار رکھتا ہے۔\n",
    "\n",
    "ہینڈ آف: ہم مرتبہ ایجنٹ ایک خصوصی ایجنٹ کو کنٹرول دے دیتے ہیں جو گفتگو کو سنبھالتا ہے۔ یہ وکندریقرت ہے۔\n",
    "\n",
    "مزید تفصیلات کے لیے بلڈنگ ایجنٹس کے لیے ہماری عملی گائیڈ دیکھیں۔\n",
    "\n",
    "مینیجر (ایجنٹ بطور اوزار)\n",
    "\n",
    "کسٹمر_فیسنگ_ایجنٹ صارف کے تمام تعامل کو ہینڈل کرتا ہے اور ٹولز کے طور پر سامنے آنے والے خصوصی ذیلی ایجنٹوں کو طلب کرتا ہے۔ ٹولز دستاویزات میں مزید پڑھیں۔"
   ]
  },
  {
   "cell_type": "code",
   "execution_count": null,
   "id": "0ed0ecb9",
   "metadata": {},
   "outputs": [],
   "source": [
    "from agents import Agent\n",
    "\n",
    "booking_agent = Agent(...)\n",
    "refund_agent = Agent(...)\n",
    "\n",
    "customer_facing_agent = Agent(\n",
    "    name=\"Customer-facing agent\",\n",
    "    instructions=(\n",
    "        \"Handle all direct user communication. \"\n",
    "        \"Call the relevant tools when specialized expertise is needed.\"\n",
    "    ),\n",
    "    tools=[\n",
    "        booking_agent.as_tool(\n",
    "            tool_name=\"booking_expert\",\n",
    "            tool_description=\"Handles booking questions and requests.\",\n",
    "        ),\n",
    "        refund_agent.as_tool(\n",
    "            tool_name=\"refund_expert\",\n",
    "            tool_description=\"Handles refund questions and requests.\",\n",
    "        )\n",
    "    ],\n",
    ")"
   ]
  },
  {
   "cell_type": "markdown",
   "id": "34e6c1af",
   "metadata": {},
   "source": [
    "Handoffs\n",
    "\n",
    "Handoffs are sub‑agents the agent can delegate to. When a handoff occurs, the delegated agent receives the conversation history and takes over the conversation. This pattern enables modular, specialized agents that excel at a single task. Read more in the handoffs documentation.\n",
    "\n",
    "ہینڈ آف\n",
    "\n",
    "ہینڈ آف ذیلی ایجنٹس ہیں جن کو ایجنٹ تفویض کر سکتا ہے۔ جب کوئی ہینڈ آف ہوتا ہے، ڈیلیگیٹڈ ایجنٹ بات چیت کی سرگزشت وصول کرتا ہے اور بات چیت کو سنبھال لیتا ہے۔ یہ پیٹرن ماڈیولر، خصوصی ایجنٹوں کو قابل بناتا ہے جو ایک ہی کام میں بہترین کارکردگی کا مظاہرہ کرتے ہیں۔ ہینڈ آف دستاویزات میں مزید پڑھیں۔"
   ]
  },
  {
   "cell_type": "code",
   "execution_count": null,
   "id": "336d7ce2",
   "metadata": {},
   "outputs": [],
   "source": [
    "from agents import Agent\n",
    "\n",
    "booking_agent = Agent(...)\n",
    "refund_agent = Agent(...)\n",
    "\n",
    "triage_agent = Agent(\n",
    "    name=\"Triage agent\",\n",
    "    instructions=(\n",
    "        \"Help the user with their questions. \"\n",
    "        \"If they ask about booking, hand off to the booking agent. \"\n",
    "        \"If they ask about refunds, hand off to the refund agent.\"\n",
    "    ),\n",
    "    handoffs=[booking_agent, refund_agent],\n",
    ")"
   ]
  },
  {
   "cell_type": "markdown",
   "id": "70e45c0e",
   "metadata": {},
   "source": [
    "Dynamic instructions\n",
    "\n",
    "In most cases, you can provide instructions when you create the agent. However, you can also provide dynamic instructions via a function. The function will receive the agent and context, and must return the prompt. Both regular and async functions are accepted.\n",
    "\n",
    "متحرک ہدایات\n",
    "\n",
    "زیادہ تر معاملات میں، جب آپ ایجنٹ بناتے ہیں تو آپ ہدایات فراہم کر سکتے ہیں۔ تاہم، آپ ایک فنکشن کے ذریعے متحرک ہدایات بھی فراہم کر سکتے ہیں۔ فنکشن ایجنٹ اور سیاق و سباق وصول کرے گا، اور اسے فوری طور پر واپس کرنا ہوگا۔ باقاعدہ اور async دونوں فنکشنز کو قبول کیا جاتا ہے۔"
   ]
  },
  {
   "cell_type": "code",
   "execution_count": null,
   "id": "1b305e06",
   "metadata": {},
   "outputs": [],
   "source": [
    "def dynamic_instructions(\n",
    "    context: RunContextWrapper[UserContext], agent: Agent[UserContext]\n",
    ") -> str:\n",
    "    return f\"The user's name is {context.context.name}. Help them with their questions.\"\n",
    "\n",
    "\n",
    "agent = Agent[UserContext](\n",
    "    name=\"Triage agent\",\n",
    "    instructions=dynamic_instructions,\n",
    ")"
   ]
  },
  {
   "cell_type": "markdown",
   "id": "5552bf31",
   "metadata": {},
   "source": [
    "Lifecycle events (hooks)\n",
    "\n",
    "Sometimes, you want to observe the lifecycle of an agent. For example, you may want to log events, or pre-fetch data when certain events occur. You can hook into the agent lifecycle with the hooks property. Subclass the AgentHooks class, and override the methods you're interested in.\n",
    "\n",
    "لائف سائیکل واقعات (ہکس)\n",
    "\n",
    "کبھی کبھی، آپ ایک ایجنٹ کے لائف سائیکل کا مشاہدہ کرنا چاہتے ہیں۔ مثال کے طور پر، آپ واقعات کو لاگ کرنا چاہتے ہیں، یا کچھ واقعات پیش آنے پر ڈیٹا کو پہلے سے بازیافت کرنا چاہتے ہیں۔ آپ ہکس پراپرٹی کے ساتھ ایجنٹ کے لائف سائیکل کو جوڑ سکتے ہیں۔ AgentHooks کلاس کو سب کلاس کریں، اور ان طریقوں کو اوور رائیڈ کریں جن میں آپ کی دلچسپی ہے۔\n",
    "\n",
    "Guardrails\n",
    "\n",
    "Guardrails allow you to run checks/validations on user input in parallel to the agent running, and on the agent's output once it is produced. For example, you could screen the user's input and agent's output for relevance. Read more in the guardrails documentation.\n",
    "\n",
    "گارڈریلز\n",
    "\n",
    "گارڈریلز آپ کو صارف کے ان پٹ پر چلنے والے ایجنٹ کے متوازی طور پر چیک/توثیق چلانے کی اجازت دیتے ہیں، اور ایک بار جب یہ تیار ہو جاتا ہے تو ایجنٹ کے آؤٹ پٹ پر۔ مثال کے طور پر، آپ مطابقت کے لیے صارف کے ان پٹ اور ایجنٹ کے آؤٹ پٹ کو اسکرین کر سکتے ہیں۔ guardrails دستاویزات میں مزید پڑھیں.\n",
    "\n",
    "Cloning/copying agents\n",
    "\n",
    "By using the clone() method on an agent, you can duplicate an Agent, and optionally change any properties you like.\n",
    "\n",
    "کلوننگ / کاپی کرنے والے ایجنٹ\n",
    "\n",
    "ایک ایجنٹ پر کلون() طریقہ استعمال کرکے، آپ ایجنٹ کی نقل بنا سکتے ہیں، اور اختیاری طور پر اپنی پسند کی کوئی بھی خصوصیات تبدیل کر سکتے ہیں۔"
   ]
  },
  {
   "cell_type": "code",
   "execution_count": null,
   "id": "47cf1065",
   "metadata": {},
   "outputs": [],
   "source": [
    "pirate_agent = Agent(\n",
    "    name=\"Pirate\",\n",
    "    instructions=\"Write like a pirate\",\n",
    "    model=\"o3-mini\",\n",
    ")\n",
    "\n",
    "robot_agent = pirate_agent.clone(\n",
    "    name=\"Robot\",\n",
    "    instructions=\"Write like a robot\",\n",
    ")"
   ]
  },
  {
   "cell_type": "markdown",
   "id": "3c802f35",
   "metadata": {},
   "source": [
    "Forcing tool use\n",
    "\n",
    "Supplying a list of tools doesn't always mean the LLM will use a tool. You can force tool use by setting ModelSettings.tool_choice. Valid values are:\n",
    "\n",
    "1. auto, which allows the LLM to decide whether or not to use a tool.\n",
    "2. required, which requires the LLM to use a tool (but it can intelligently decide which tool).\n",
    "3. none, which requires the LLM to not use a tool.\n",
    "4. Setting a specific string e.g. my_tool, which requires the LLM to use that specific tool.\n",
    "\n",
    "زبردستی ٹول استعمال کرنا\n",
    "\n",
    "ٹولز کی فہرست فراہم کرنے کا مطلب ہمیشہ یہ نہیں ہوتا ہے کہ LLM ٹول استعمال کرے گا۔ آپ ModelSettings.tool_choice سیٹ کر کے ٹول کے استعمال پر مجبور کر سکتے ہیں۔ درست اقدار ہیں:\n",
    "\n",
    "1. آٹو، جو LLM کو ٹول استعمال کرنے یا نہ کرنے کا فیصلہ کرنے کی اجازت دیتا ہے۔\n",
    "2. درکار ہے، جس کے لیے LLM کو ٹول استعمال کرنے کی ضرورت ہے (لیکن یہ ذہانت سے فیصلہ کر سکتا ہے کہ کون سا ٹول ہے)۔\n",
    "3. کوئی نہیں، جس کے لیے LLM کو ٹول استعمال نہ کرنے کی ضرورت ہو۔\n",
    "4. ایک مخصوص سٹرنگ ترتیب دینا جیسے my_tool، جس میں LLM کو اس مخصوص ٹول کو استعمال کرنے کی ضرورت ہوتی ہے۔"
   ]
  },
  {
   "cell_type": "code",
   "execution_count": null,
   "id": "ce3fd421",
   "metadata": {},
   "outputs": [],
   "source": [
    "from agents import Agent, Runner, function_tool, ModelSettings\n",
    "\n",
    "@function_tool\n",
    "def get_weather(city: str) -> str:\n",
    "    \"\"\"Returns weather info for the specified city.\"\"\"\n",
    "    return f\"The weather in {city} is sunny\"\n",
    "\n",
    "agent = Agent(\n",
    "    name=\"Weather Agent\",\n",
    "    instructions=\"Retrieve weather details.\",\n",
    "    tools=[get_weather],\n",
    "    model_settings=ModelSettings(tool_choice=\"get_weather\")"
   ]
  },
  {
   "cell_type": "markdown",
   "id": "63439b43",
   "metadata": {},
   "source": [
    "Tool Use Behavior\n",
    "\n",
    "The tool_use_behavior parameter in the Agent configuration controls how tool outputs are handled:\n",
    "\n",
    "*. \"run_llm_again\": The default. Tools are run, and the LLM processes the results to produce a final \n",
    "    response.\n",
    "*. \"stop_on_first_tool\": The output of the first tool call is used as the final response, without\n",
    "    further LLM processing.\n",
    "\n",
    "    ٹول کے استعمال کا برتاؤ\n",
    "\n",
    "ایجنٹ کنفیگریشن میں ٹول_استعمال_بیہیویور پیرامیٹر کنٹرول کرتا ہے کہ ٹول آؤٹ پٹس کو کیسے ہینڈل کیا جاتا ہے:\n",
    "\n",
    "* \"run_llm_again\": پہلے سے طے شدہ۔ ٹولز چلائے جاتے ہیں، اور LLM فائنل بنانے کے لیے نتائج پر کارروائی کرتا ہے۔ \n",
    "جواب\n",
    "* \"stop_on_first_tool\": پہلی ٹول کال کی آؤٹ پٹ کو حتمی جواب کے طور پر استعمال کیا جاتا ہے، بغیر \n",
    "مزید ایل ایل ایم پروسیسنگ۔"
   ]
  },
  {
   "cell_type": "code",
   "execution_count": null,
   "id": "cf2fcfdc",
   "metadata": {},
   "outputs": [],
   "source": [
    "from agents import Agent, Runner, function_tool, ModelSettings\n",
    "\n",
    "@function_tool\n",
    "def get_weather(city: str) -> str:\n",
    "    \"\"\"Returns weather info for the specified city.\"\"\"\n",
    "    return f\"The weather in {city} is sunny\"\n",
    "\n",
    "agent = Agent(\n",
    "    name=\"Weather Agent\",\n",
    "    instructions=\"Retrieve weather details.\",\n",
    "    tools=[get_weather],\n",
    "    tool_use_behavior=\"stop_on_first_tool\""
   ]
  },
  {
   "cell_type": "markdown",
   "id": "c3e9f07b",
   "metadata": {},
   "source": [
    "*. StopAtTools(stop_at_tool_names=[...]): Stops if any specified tool is called, using its output as the\n",
    "   final response.\n",
    "\n",
    "   * StopAtTools(stop_at_tool_names=[...]): اگر کسی مخصوص ٹول کو کال کیا جائے تو اس کے آؤٹ پٹ کو \n",
    "حتمی جواب."
   ]
  },
  {
   "cell_type": "code",
   "execution_count": null,
   "id": "2dd214e9",
   "metadata": {},
   "outputs": [],
   "source": [
    "from agents import Agent, Runner, function_tool\n",
    "from agents.agent import StopAtTools\n",
    "\n",
    "@function_tool\n",
    "def get_weather(city: str) -> str:\n",
    "    \"\"\"Returns weather info for the specified city.\"\"\"\n",
    "    return f\"The weather in {city} is sunny\"\n",
    "\n",
    "@function_tool\n",
    "def sum_numbers(a: int, b: int) -> int:\n",
    "    \"\"\"Adds two numbers.\"\"\"\n",
    "    return a + b\n",
    "\n",
    "agent = Agent(\n",
    "    name=\"Stop At Stock Agent\",\n",
    "    instructions=\"Get weather or sum numbers.\",\n",
    "    tools=[get_weather, sum_numbers],\n",
    "    tool_use_behavior=StopAtTools(stop_at_tool_names=[\"get_weather\"])\n",
    ")"
   ]
  },
  {
   "cell_type": "markdown",
   "id": "c323b102",
   "metadata": {},
   "source": [
    "*. ToolsToFinalOutputFunction: A custom function that processes tool results and decides whether to stop \n",
    "   or continue with the LLM.\n",
    "\n",
    "* ToolsToFinalOutputFunction: ایک حسب ضرورت فنکشن جو ٹول کے نتائج پر کارروائی کرتا ہے اور فیصلہ کرتا ہے کہ آیا رکنا ہے \n",
    "یا LLM کے ساتھ جاری رکھیں۔"
   ]
  },
  {
   "cell_type": "code",
   "execution_count": null,
   "id": "bb5a1736",
   "metadata": {},
   "outputs": [],
   "source": [
    "from agents import Agent, Runner, function_tool, FunctionToolResult, RunContextWrapper\n",
    "from agents.agent import ToolsToFinalOutputResult\n",
    "from typing import List, Any\n",
    "\n",
    "@function_tool\n",
    "def get_weather(city: str) -> str:\n",
    "    \"\"\"Returns weather info for the specified city.\"\"\"\n",
    "    return f\"The weather in {city} is sunny\"\n",
    "\n",
    "def custom_tool_handler(\n",
    "    context: RunContextWrapper[Any],\n",
    "    tool_results: List[FunctionToolResult]\n",
    ") -> ToolsToFinalOutputResult:\n",
    "    \"\"\"Processes tool results to decide final output.\"\"\"\n",
    "    for result in tool_results:\n",
    "        if result.output and \"sunny\" in result.output:\n",
    "            return ToolsToFinalOutputResult(\n",
    "                is_final_output=True,\n",
    "                final_output=f\"Final weather: {result.output}\"\n",
    "            )\n",
    "    return ToolsToFinalOutputResult(\n",
    "        is_final_output=False,\n",
    "        final_output=None\n",
    "    )\n",
    "\n",
    "agent = Agent(\n",
    "    name=\"Weather Agent\",\n",
    "    instructions=\"Retrieve weather details.\",\n",
    "    tools=[get_weather],\n",
    "    tool_use_behavior=custom_tool_handler"
   ]
  },
  {
   "cell_type": "markdown",
   "id": "30617537",
   "metadata": {},
   "source": [
    "Note_01\n",
    "\n",
    "When you pass an output_type, that tells the model to use structured outputs instead of regular plain text responses.\n",
    "\n",
    "نوٹ_01\n",
    "\n",
    "جب آپ ایک آؤٹ پٹ_ٹائپ پاس کرتے ہیں، تو یہ ماڈل کو باقاعدہ سادہ متن کے جوابات کے بجائے ساختی آؤٹ پٹ استعمال کرنے کو کہتا ہے۔\n",
    "\n",
    "Note_02\n",
    "\n",
    "To prevent infinite loops, the framework automatically resets tool_choice to \"auto\" after a tool call. This behavior is configurable via agent.reset_tool_choice. The infinite loop is because tool results are sent to the LLM, which then generates another tool call because of tool_choice, ad infinitum.\n",
    "\n",
    "نوٹ_02\n",
    "\n",
    "لامحدود لوپس کو روکنے کے لیے، فریم ورک ٹول کال کے بعد ٹول_چوائس کو خود بخود \"آٹو\" پر ری سیٹ کر دیتا ہے۔ یہ سلوک agent.reset_tool_choice کے ذریعے قابل ترتیب ہے۔ لامحدود لوپ اس لیے ہے کہ ٹول کے نتائج LLM کو بھیجے جاتے ہیں، جو پھر tool_choice، ad infinitum کی وجہ سے ایک اور ٹول کال تیار کرتا ہے۔"
   ]
  }
 ],
 "metadata": {
  "kernelspec": {
   "display_name": "Python 3",
   "language": "python",
   "name": "python3"
  },
  "language_info": {
   "name": "python",
   "version": "3.13.2"
  }
 },
 "nbformat": 4,
 "nbformat_minor": 5
}
