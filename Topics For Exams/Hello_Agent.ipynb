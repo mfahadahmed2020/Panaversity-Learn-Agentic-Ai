{
 "cells": [
  {
   "cell_type": "markdown",
   "id": "45edca3f",
   "metadata": {},
   "source": [
    "🌟 What is OpenAI Agents SDK?\n",
    "\n",
    "Imagine you want to build a smart assistant—like a chatbot or an AI agent—that can:\n",
    "\n",
    "   * Answer questions intelligently,\n",
    "   * Use tools like calculators or web searches,\n",
    "   * And know when to ask another agent for help.\n",
    "\n",
    "💡 The OpenAI Agents SDK helps you create such smart AI agents easily using Python.\n",
    "\n",
    "🌟 OpenAI ایجنٹس SDK کیا ہے؟\n",
    "\n",
    "تصور کریں کہ آپ ایک سمارٹ اسسٹنٹ بنانا چاہتے ہیں — جیسے کہ چیٹ بوٹ یا ایک AI ایجنٹ — جو کر سکتا ہے: \n",
    "\n",
    "*سوالات کا ذہانت سے جواب دیں، \n",
    "* ٹولز کا استعمال کریں جیسے کیلکولیٹر یا ویب سرچ، \n",
    "* اور جانیں کہ کب کسی دوسرے ایجنٹ سے مدد مانگنی ہے۔\n",
    "\n",
    "💡 OpenAI ایجنٹس SDK آپ کو ازگر کا استعمال کرتے ہوئے آسانی سے ایسے سمارٹ AI ایجنٹس بنانے میں مدد کرتا ہے۔"
   ]
  },
  {
   "cell_type": "markdown",
   "id": "eef29191",
   "metadata": {},
   "source": [
    "🤖 In Simple Words\n",
    "\n",
    "Think of it like this:\n",
    "\n",
    "  *  Agent = A smart AI person (powered by GPT) with a job (instructions).\n",
    "  *  Tool = A calculator, file reader, or anything the agent can “use”.\n",
    "  *  Handoff = When one agent passes the task to another expert agent.\n",
    "  *  Guardrail = A filter or checkpoint to make sure the input is okay.\n",
    "  *  Runner = The engine that runs the agent’s brain.\n",
    "\n",
    "  🤖 آسان الفاظ میں\n",
    "\n",
    "اس کے بارے میں اس طرح سوچیں: \n",
    "\n",
    "* ایجنٹ = ایک ہوشیار AI شخص (جی پی ٹی کے ذریعے تقویت یافتہ) نوکری کے ساتھ (ہدایات)۔ \n",
    "* ٹول = ایک کیلکولیٹر، فائل ریڈر، یا کوئی بھی چیز جسے ایجنٹ \"استعمال\" کر سکتا ہے۔ \n",
    "* ہینڈ آف = جب ایک ایجنٹ کام دوسرے ماہر ایجنٹ کو دے دیتا ہے۔ \n",
    "* گارڈریل = ایک فلٹر یا چوکی یہ یقینی بنانے کے لیے کہ ان پٹ ٹھیک ہے۔ \n",
    "* رنر = وہ انجن جو ایجنٹ کے دماغ کو چلاتا ہے۔"
   ]
  },
  {
   "cell_type": "markdown",
   "id": "61eee2f7",
   "metadata": {},
   "source": [
    "🧒 Analogy for a 5-year-old:\n",
    "\n",
    "Imagine you're in a big school with many teachers.\n",
    "\n",
    "    🧑‍🏫 The Math Teacher helps with math problems.\n",
    "    🧑‍🏫 The History Teacher helps with history questions.\n",
    "    🧑‍🏫 The Receptionist decides who the student should talk to.\n",
    "\n",
    "This is how Agents SDK works:\n",
    "\n",
    "1.  The student (user) asks a question.\n",
    "2.  The receptionist agent reads the question and hands it off to the right teacher (agent).\n",
    "3.  The teacher may use a tool like a calculator.\n",
    "4.  If the question is naughty, a guardrail might block it before it even reaches the teacher.\n",
    "5.  Everything is recorded nicely so you can see what happened and debug it (called tracing).\n",
    "\n",
    "5 سال کے بچے کے لیے تشبیہ:\n",
    "\n",
    "تصور کریں کہ آپ بہت سارے اساتذہ کے ساتھ ایک بڑے اسکول میں ہیں۔ \n",
    "\n",
    "🧑‍🏫 ریاضی کا استاد ریاضی کے مسائل میں مدد کرتا ہے۔ \n",
    "\n",
    "🧑‍🏫 تاریخ کا استاد تاریخ کے سوالات میں مدد کرتا ہے۔ \n",
    "\n",
    "🧑‍🏫 استقبالیہ فیصلہ کرتا ہے کہ طالب علم کو کس سے بات کرنی چاہیے۔\n",
    "\n",
    "ایجنٹ SDK اس طرح کام کرتا ہے:\n",
    "\n",
    "1. طالب علم (صارف) ایک سوال پوچھتا ہے۔\n",
    "2. استقبالیہ ایجنٹ سوال پڑھتا ہے اور اسے صحیح استاد (ایجنٹ) کے حوالے کرتا ہے۔\n",
    "3. استاد کیلکولیٹر جیسا آلہ استعمال کر سکتا ہے۔\n",
    "4. اگر سوال شرارتی ہے، تو استاد تک پہنچنے سے پہلے ہی گارڈریل اسے روک سکتا ہے۔\n",
    "5. سب کچھ اچھی طرح سے ریکارڈ کیا جاتا ہے تاکہ آپ دیکھ سکیں کہ کیا ہوا اور اسے ڈیبگ کر سکتے ہیں (جسے ٹریسنگ کہتے ہیں)۔"
   ]
  },
  {
   "cell_type": "markdown",
   "id": "96b488b3",
   "metadata": {},
   "source": [
    "🧪 Hi World Example (Python):\n",
    "\n",
    "🧪 ہیلو ورلڈ مثال (Python):"
   ]
  },
  {
   "cell_type": "code",
   "execution_count": null,
   "id": "78f0a1f2",
   "metadata": {},
   "outputs": [],
   "source": [
    "from agents import Agent, Runner\n",
    "\n",
    "agent = Agent(name=\"Assistant\", instructions=\"You are a helpful assistant\")\n",
    "\n",
    "result = Runner.run_sync(agent, \"Write a haiku about recursion in programming.\")\n",
    "print(result.final_output)"
   ]
  },
  {
   "cell_type": "markdown",
   "id": "225b34bb",
   "metadata": {},
   "source": [
    "ایجنٹوں سے درآمد ایجنٹ، رنر\n",
    "\n",
    "ایجنٹ = ایجنٹ (نام = \"اسسٹنٹ\"، ہدایات = \"آپ ایک مددگار معاون ہیں\")\n",
    "\n",
    "نتیجہ = Runner.run_sync (ایجنٹ، \"پروگرامنگ میں تکرار کے بارے میں ایک ہائیکو لکھیں۔\")\n",
    "پرنٹ (نتیجہ فائنل_آؤٹ پٹ)"
   ]
  },
  {
   "cell_type": "markdown",
   "id": "85f3222e",
   "metadata": {},
   "source": [
    "📝 Output:"
   ]
  },
  {
   "cell_type": "markdown",
   "id": "d73eceed",
   "metadata": {},
   "source": [
    "Code within the code,\n",
    "Functions calling themselves now,\n",
    "Infinite loop’s dance.\n",
    "\n",
    "کوڈ کے اندر کوڈ،\n",
    "افعال خود کو اب بلا رہے ہیں،\n",
    "لامحدود لوپ کا رقص۔"
   ]
  },
  {
   "cell_type": "markdown",
   "id": "021290a4",
   "metadata": {},
   "source": [
    "💡 Why Use It?\n",
    "\n",
    "    Easy to learn and write.\n",
    "    Lets you build real-world AI workflows.\n",
    "    Built-in support for tools, agents, handoffs, and guardrails.\n",
    "    Helps you visualize and trace what happened during the AI's thinking process.\n",
    "\n",
    "💡 اسے کیوں استعمال کریں؟ \n",
    "\n",
    "سیکھنے اور لکھنے میں آسان۔ \n",
    "\n",
    "آپ کو حقیقی دنیا کے AI \n",
    "ورک فلو بنانے دیتا ہے۔\n",
    "\n",
    "ٹولز، ایجنٹس، ہینڈ آف اور گارڈریلز کے لیے بلٹ ان سپورٹ۔ \n",
    "AI\n",
    "\n",
    " کے سوچنے کے عمل کے دوران کیا ہوا اسے دیکھنے اور ٹریس کرنے میں آپ کی مدد کرتا ہے۔"
   ]
  }
 ],
 "metadata": {
  "kernelspec": {
   "display_name": "Topics For Exams (3.13.2)",
   "language": "python",
   "name": "python3"
  },
  "language_info": {
   "codemirror_mode": {
    "name": "ipython",
    "version": 3
   },
   "file_extension": ".py",
   "mimetype": "text/x-python",
   "name": "python",
   "nbconvert_exporter": "python",
   "pygments_lexer": "ipython3",
   "version": "3.13.2"
  }
 },
 "nbformat": 4,
 "nbformat_minor": 5
}
