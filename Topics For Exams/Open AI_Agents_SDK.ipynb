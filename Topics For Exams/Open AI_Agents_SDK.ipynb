{
 "cells": [
  {
   "cell_type": "markdown",
   "id": "9496f5e7",
   "metadata": {},
   "source": [
    "Agents\n",
    "\n",
    "Agents are the core building block in your apps. An agent is a large language model (LLM), configured with instructions and tools.\n",
    "\n",
    "Basic configuration\n",
    "\n",
    "The most common properties of an agent you'll configure are:\n",
    "\n",
    "* name: A required string that identifies your agent.\n",
    "* instructions: also known as a developer message or system prompt.\n",
    "* model: which LLM to use, and optional model_settings to configure model tuning parameters like\n",
    "  temperature, top_p, etc.\n",
    "* tools: Tools that the agent can use to achieve its tasks.\n",
    "\n",
    "ایجنٹس\n",
    "\n",
    "ایجنٹ آپ کی ایپس میں بنیادی تعمیراتی بلاک ہیں۔ ایجنٹ ایک بڑی لینگویج ماڈل (ایل ایل ایم) ہے، جسے ہدایات اور ٹولز کے ساتھ ترتیب دیا گیا ہے۔\n",
    "\n",
    "بنیادی ترتیب\n",
    "\n",
    "ایک ایجنٹ کی سب سے عام خصوصیات جو آپ ترتیب دیں گے یہ ہیں:\n",
    "\n",
    "* نام: ایک مطلوبہ تار جو آپ کے ایجنٹ کی شناخت کرتا ہے۔\n",
    "* ہدایات: ڈویلپر پیغام یا سسٹم پرامپٹ کے نام سے بھی جانا جاتا ہے۔\n",
    "* ماڈل: کون سا ایل ایل ایم استعمال کرنا ہے، اور ماڈل ٹیوننگ پیرامیٹرز کو ترتیب دینے کے لیے اختیاری model_settings جیسے \n",
    "درجہ حرارت، top_p، وغیرہ\n",
    "* ٹولز: وہ ٹولز جنہیں ایجنٹ اپنے کاموں کو حاصل کرنے کے لیے استعمال کر سکتا ہے۔"
   ]
  },
  {
   "cell_type": "code",
   "execution_count": null,
   "id": "be947512",
   "metadata": {
    "vscode": {
     "languageId": "plaintext"
    }
   },
   "outputs": [],
   "source": [
    "from agents import Agent, ModelSettings, function_tool\n",
    "\n",
    "@function_tool\n",
    "def get_weather(city: str) -> str:\n",
    "     \"\"\"returns weather info for the specified city.\"\"\"\n",
    "    return f\"The weather in {city} is sunny\"\n",
    "\n",
    "agent = Agent(\n",
    "    name=\"Haiku agent\",\n",
    "    instructions=\"Always respond in haiku form\",\n",
    "    model=\"o3-mini\",\n",
    "    tools=[get_weather],\n",
    ")"
   ]
  },
  {
   "cell_type": "markdown",
   "id": "e8128ecf",
   "metadata": {},
   "source": [
    "Context\n",
    "\n",
    "Agents are generic on their context type. Context is a dependency-injection tool: it's an object you create and pass to Runner.run(), that is passed to every agent, tool, handoff etc, and it serves as a grab bag of dependencies and state for the agent run. You can provide any Python object as the context.\n",
    "\n",
    "سیاق و سباق\n",
    "\n",
    "ایجنٹ اپنے سیاق و سباق کی قسم پر عام ہوتے ہیں۔ سیاق و سباق ایک انحصاری انجیکشن ٹول ہے: یہ ایک ایسی چیز ہے جسے آپ بناتے ہیں اور Runner.run() کو پاس کرتے ہیں، جو ہر ایجنٹ، ٹول، ہینڈ آف وغیرہ کو دیا جاتا ہے، اور یہ ایجنٹ چلانے کے لیے انحصار اور ریاست کے گراب بیگ کے طور پر کام کرتا ہے۔ آپ سیاق و سباق کے طور پر کوئی بھی ازگر آبجیکٹ فراہم کر سکتے ہیں۔"
   ]
  },
  {
   "cell_type": "code",
   "execution_count": null,
   "id": "bd0d88ad",
   "metadata": {
    "vscode": {
     "languageId": "plaintext"
    }
   },
   "outputs": [],
   "source": [
    "@dataclass\n",
    "class UserContext:\n",
    "    name: str\n",
    "    uid: str\n",
    "    is_pro_user: bool\n",
    "\n",
    "    async def fetch_purchases() -> list[Purchase]:\n",
    "        return ...\n",
    "\n",
    "agent = Agent[UserContext](\n",
    "    ...,\n",
    ")"
   ]
  },
  {
   "cell_type": "markdown",
   "id": "8c1ac248",
   "metadata": {},
   "source": [
    "Output types\n",
    "\n",
    "By default, agents produce plain text (i.e. str) outputs. If you want the agent to produce a particular type of output, you can use the output_type parameter. A common choice is to use Pydantic objects, but we support any type that can be wrapped in a Pydantic TypeAdapter - dataclasses, lists, TypedDict, etc.\n",
    "\n",
    "آؤٹ پٹ کی اقسام\n",
    "\n",
    "پہلے سے طے شدہ طور پر، ایجنٹ سادہ متن (یعنی str) آؤٹ پٹ تیار کرتے ہیں۔ اگر آپ چاہتے ہیں کہ ایجنٹ ایک خاص قسم کی آؤٹ پٹ پیدا کرے، تو آپ output_type پیرامیٹر استعمال کر سکتے ہیں۔ ایک عام انتخاب Pydantic اشیاء کا استعمال کرنا ہے، لیکن ہم کسی بھی قسم کی حمایت کرتے ہیں جسے Pydantic TypeAdapter میں لپیٹا جا سکتا ہے - ڈیٹا کلاسز، فہرستیں، TypedDict، وغیرہ۔"
   ]
  },
  {
   "cell_type": "code",
   "execution_count": null,
   "id": "5688ce2b",
   "metadata": {
    "vscode": {
     "languageId": "plaintext"
    }
   },
   "outputs": [],
   "source": [
    "from pydantic import BaseModel\n",
    "from agents import Agent\n",
    "\n",
    "\n",
    "class CalendarEvent(BaseModel):\n",
    "    name: str\n",
    "    date: str\n",
    "    participants: list[str]\n",
    "\n",
    "agent = Agent(\n",
    "    name=\"Calendar extractor\",\n",
    "    instructions=\"Extract calendar events from text\",\n",
    "    output_type=CalendarEvent,\n",
    ")"
   ]
  },
  {
   "cell_type": "markdown",
   "id": "943ec06d",
   "metadata": {},
   "source": [
    "Handoffs\n",
    "\n",
    "Handoffs are sub-agents that the agent can delegate to. You provide a list of handoffs, and the agent can choose to delegate to them if relevant. This is a powerful pattern that allows orchestrating modular, specialized agents that excel at a single task. \n",
    "\n",
    "ہینڈ آف\n",
    "\n",
    "ہینڈ آف ذیلی ایجنٹ ہیں جن کو ایجنٹ تفویض کر سکتا ہے۔ آپ ہینڈ آف کی فہرست فراہم کرتے ہیں، اور اگر متعلقہ ہو تو ایجنٹ ان کو تفویض کرنے کا انتخاب کر سکتا ہے۔ یہ ایک طاقتور نمونہ ہے جو ماڈیولر، خصوصی ایجنٹوں کو آرکیسٹریٹنگ کی اجازت دیتا ہے جو ایک ہی کام میں سبقت لے جاتے ہیں۔"
   ]
  },
  {
   "cell_type": "code",
   "execution_count": null,
   "id": "4641eef8",
   "metadata": {
    "vscode": {
     "languageId": "plaintext"
    }
   },
   "outputs": [],
   "source": [
    "from agents import Agent\n",
    "\n",
    "booking_agent = Agent(...)\n",
    "refund_agent = Agent(...)\n",
    "\n",
    "triage_agent = Agent(\n",
    "    name=\"Triage agent\",\n",
    "    instructions=(\n",
    "        \"Help the user with their questions.\"\n",
    "        \"If they ask about booking, handoff to the booking agent.\"\n",
    "        \"If they ask about refunds, handoff to the refund agent.\"\n",
    "    ),\n",
    "    handoffs=[booking_agent, refund_agent],\n",
    ")"
   ]
  },
  {
   "cell_type": "markdown",
   "id": "dd07c828",
   "metadata": {},
   "source": [
    "Dynamic instructions\n",
    "\n",
    "In most cases, you can provide instructions when you create the agent. However, you can also provide dynamic instructions via a function. The function will receive the agent and context, and must return the prompt. Both regular and async functions are accepted.\n",
    "\n",
    "متحرک ہدایات\n",
    "\n",
    "زیادہ تر معاملات میں، آپ ایجنٹ بناتے وقت ہدایات فراہم کر سکتے ہیں۔ تاہم، آپ ایک فنکشن کے ذریعے متحرک ہدایات بھی فراہم کر سکتے ہیں۔ فنکشن ایجنٹ اور سیاق و سباق وصول کرے گا، اور اسے فوری طور پر واپس کرنا ہوگا۔ باقاعدہ اور async دونوں فنکشنز کو قبول کیا جاتا ہے۔"
   ]
  },
  {
   "cell_type": "code",
   "execution_count": null,
   "id": "2f48d9c8",
   "metadata": {
    "vscode": {
     "languageId": "plaintext"
    }
   },
   "outputs": [],
   "source": [
    "def dynamic_instructions(\n",
    "    context: RunContextWrapper[UserContext], agent: Agent[UserContext]\n",
    ") -> str:\n",
    "    return f\"The user's name is {context.context.name}. Help them with their questions.\"\n",
    "\n",
    "\n",
    "agent = Agent[UserContext](\n",
    "    name=\"Triage agent\",\n",
    "    instructions=dynamic_instructions,\n",
    ")"
   ]
  },
  {
   "cell_type": "markdown",
   "id": "d6467607",
   "metadata": {},
   "source": [
    "Lifecycle events (hooks)\n",
    "\n",
    "Sometimes, you want to observe the lifecycle of an agent. For example, you may want to log events, or pre-fetch data when certain events occur. You can hook into the agent lifecycle with the hooks property.\n",
    "\n",
    "لائف سائیکل واقعات (ہکس)\n",
    "\n",
    "کبھی کبھی، آپ ایک ایجنٹ کے لائف سائیکل کا مشاہدہ کرنا چاہتے ہیں۔ مثال کے طور پر، آپ واقعات کو لاگ کرنا چاہتے ہیں، یا کچھ واقعات پیش آنے پر ڈیٹا کو پہلے سے بازیافت کرنا چاہتے ہیں۔ آپ ہکس پراپرٹی کے ساتھ ایجنٹ کے لائف سائیکل کو جوڑ سکتے ہیں۔"
   ]
  },
  {
   "cell_type": "markdown",
   "id": "012c4c05",
   "metadata": {},
   "source": [
    "Guardrails\n",
    "\n",
    "Guardrails allow you to run checks/validations on user input in parallel to the agent running, and on the agent's output once it is produced. For example, you could screen the user's input and agent's output for relevance.\n",
    "\n",
    "گارڈریلز\n",
    "\n",
    "گارڈریلز آپ کو صارف کے ان پٹ پر ایجنٹ کے چلنے کے متوازی طور پر چیک/توثیق چلانے کی اجازت دیتے ہیں، اور ایک بار جب یہ تیار ہو جاتا ہے تو ایجنٹ کے آؤٹ پٹ پر۔ مثال کے طور پر، آپ مطابقت کے لیے صارف کے ان پٹ اور ایجنٹ کے آؤٹ پٹ کو اسکرین کر سکتے ہیں۔"
   ]
  },
  {
   "cell_type": "markdown",
   "id": "d5d82631",
   "metadata": {},
   "source": [
    "Cloning / Copying Agents\n",
    "\n",
    "By using the clone() method on an agent, you can duplicate an Agent, and optionally change any properties you like.\n",
    "\n",
    "کلوننگ / کاپی کرنے والے ایجنٹ\n",
    "\n",
    "ایک ایجنٹ پر کلون() طریقہ استعمال کرکے، آپ ایجنٹ کی نقل بنا سکتے ہیں، اور اختیاری طور پر اپنی پسند کی کوئی بھی خصوصیات تبدیل کر سکتے ہیں۔"
   ]
  },
  {
   "cell_type": "code",
   "execution_count": null,
   "id": "3d4c12d6",
   "metadata": {
    "vscode": {
     "languageId": "plaintext"
    }
   },
   "outputs": [],
   "source": [
    "pirate_agent = Agent(\n",
    "    name=\"Pirate\",\n",
    "    instructions=\"Write like a pirate\",\n",
    "    model=\"o3-mini\",\n",
    ")\n",
    "\n",
    "robot_agent = pirate_agent.clone(\n",
    "    name=\"Robot\",\n",
    "    instructions=\"Write like a robot\",\n",
    ")"
   ]
  },
  {
   "cell_type": "markdown",
   "id": "0b6a2d60",
   "metadata": {},
   "source": [
    "Forcing tool use\n",
    "\n",
    "Supplying a list of tools doesn't always mean the LLM will use a tool. You can force tool use by setting ModelSettings.tool_choice. Valid values are:\n",
    "\n",
    "1. auto, which allows the LLM to decide whether or not to use a tool.\n",
    "2. required, which requires the LLM to use a tool (but it can intelligently decide which tool).\n",
    "3. none, which requires the LLM to not use a tool.\n",
    "4. Setting a specific string e.g. my_tool, which requires the LLM to use that specific tool.\n",
    "\n",
    "زبردستی ٹول استعمال کرنا\n",
    "\n",
    "ٹولز کی فہرست فراہم کرنے کا مطلب ہمیشہ یہ نہیں ہوتا ہے کہ LLM ٹول استعمال کرے گا۔ آپ ModelSettings.tool_choice سیٹ کر کے ٹول کے استعمال پر مجبور کر سکتے ہیں۔ درست اقدار ہیں:\n",
    "\n",
    "1. آٹو، جو LLM کو ٹول استعمال کرنے یا نہ کرنے کا فیصلہ کرنے کی اجازت دیتا ہے۔\n",
    "2. درکار ہے، جس کے لیے LLM کو ٹول استعمال کرنے کی ضرورت ہے (لیکن یہ ذہانت سے فیصلہ کر سکتا ہے کہ کون سا ٹول ہے)۔\n",
    "3. کوئی نہیں، جس کے لیے LLM کو ٹول استعمال نہ کرنے کی ضرورت ہو۔\n",
    "4. ایک مخصوص سٹرنگ ترتیب دینا جیسے my_tool، جس میں LLM کو اس مخصوص ٹول کو استعمال کرنے کی ضرورت ہوتی ہے۔"
   ]
  },
  {
   "cell_type": "code",
   "execution_count": null,
   "id": "1db2edea",
   "metadata": {
    "vscode": {
     "languageId": "plaintext"
    }
   },
   "outputs": [],
   "source": [
    "from agents import Agent, Runner, function_tool, ModelSettings\n",
    "\n",
    "@function_tool\n",
    "def get_weather(city: str) -> str:\n",
    "    \"\"\"Returns weather info for the specified city.\"\"\"\n",
    "    return f\"The weather in {city} is sunny\"\n",
    "\n",
    "agent = Agent(\n",
    "    name=\"Weather Agent\",\n",
    "    instructions=\"Retrieve weather details.\",\n",
    "    tools=[get_weather],\n",
    "    model_settings=ModelSettings(tool_choice=\"get_weather\") \n",
    ")"
   ]
  },
  {
   "cell_type": "markdown",
   "id": "cad0c9ea",
   "metadata": {},
   "source": [
    "Tool Use Behavior\n",
    "\n",
    "The tool_use_behavior parameter in the Agent configuration controls how tool outputs are handled: - \"run_llm_again\": The default. Tools are run, and the LLM processes the results to produce a final response. - \"stop_on_first_tool\": The output of the first tool call is used as the final response, without further LLM processing.\n",
    "\n",
    "ٹول کے استعمال کا برتاؤ\n",
    "\n",
    "ایجنٹ کنفیگریشن میں ٹول_استعمال_بی ہیویور پیرامیٹر کنٹرول کرتا ہے کہ ٹول آؤٹ پٹس کو کیسے ہینڈل کیا جاتا ہے: - \"run_llm_again\": ڈیفالٹ۔ ٹولز چلائے جاتے ہیں، اور LLM حتمی ردعمل پیدا کرنے کے لیے نتائج پر کارروائی کرتا ہے۔ - \"stop_on_first_tool\": پہلے ٹول کال کی آؤٹ پٹ کو حتمی جواب کے طور پر استعمال کیا جاتا ہے، مزید LLM پروسیسنگ کے بغیر۔"
   ]
  },
  {
   "cell_type": "code",
   "execution_count": null,
   "id": "b3812a27",
   "metadata": {
    "vscode": {
     "languageId": "plaintext"
    }
   },
   "outputs": [],
   "source": [
    "from agents import Agent, Runner, function_tool, ModelSettings\n",
    "\n",
    "@function_tool\n",
    "def get_weather(city: str) -> str:\n",
    "    \"\"\"Returns weather info for the specified city.\"\"\"\n",
    "    return f\"The weather in {city} is sunny\"\n",
    "\n",
    "agent = Agent(\n",
    "    name=\"Weather Agent\",\n",
    "    instructions=\"Retrieve weather details.\",\n",
    "    tools=[get_weather],\n",
    "    tool_use_behavior=\"stop_on_first_tool\"\n",
    ")"
   ]
  },
  {
   "cell_type": "markdown",
   "id": "5733dc12",
   "metadata": {},
   "source": [
    "* StopAtTools(stop_at_tool_names=[...]): Stops if any specified tool is called, using its output as the\n",
    "  final response.\n",
    "\n",
    "  * StopAtTools(stop_at_tool_names=[...]): اگر کسی مخصوص ٹول کو کال کیا جائے تو اس کے آؤٹ پٹ کو بطور استعمال کرتے ہوئے رک جاتا ہے۔ \n",
    "حتمی جواب."
   ]
  },
  {
   "cell_type": "code",
   "execution_count": null,
   "id": "96749ae5",
   "metadata": {
    "vscode": {
     "languageId": "plaintext"
    }
   },
   "outputs": [],
   "source": [
    "from agents import Agent, Runner, function_tool\n",
    "from agents.agent import StopAtTools\n",
    "\n",
    "@function_tool\n",
    "def get_weather(city: str) -> str:\n",
    "    \"\"\"Returns weather info for the specified city.\"\"\"\n",
    "    return f\"The weather in {city} is sunny\"\n",
    "\n",
    "@function_tool\n",
    "def sum_numbers(a: int, b: int) -> int:\n",
    "    \"\"\"Adds two numbers.\"\"\"\n",
    "    return a + b\n",
    "\n",
    "agent = Agent(\n",
    "    name=\"Stop At Stock Agent\",\n",
    "    instructions=\"Get weather or sum numbers.\",\n",
    "    tools=[get_weather, sum_numbers],\n",
    "    tool_use_behavior=StopAtTools(stop_at_tool_names=[\"get_weather\"])\n",
    ")"
   ]
  },
  {
   "cell_type": "markdown",
   "id": "4b25a100",
   "metadata": {},
   "source": [
    "* ToolsToFinalOutputFunction: A custom function that processes tool results and decides whether to stop\n",
    "  or continue with the LLM.\n",
    "\n",
    "  * ToolsToFinalOutputFunction: ایک حسب ضرورت فنکشن جو ٹول کے نتائج پر کارروائی کرتا ہے اور فیصلہ کرتا ہے کہ آیا رکنا ہے \n",
    "یا LLM کے ساتھ جاری رکھیں۔"
   ]
  },
  {
   "cell_type": "code",
   "execution_count": null,
   "id": "a58c4ed7",
   "metadata": {
    "vscode": {
     "languageId": "plaintext"
    }
   },
   "outputs": [],
   "source": [
    "from agents import Agent, Runner, function_tool, FunctionToolResult, RunContextWrapper\n",
    "from agents.agent import ToolsToFinalOutputResult\n",
    "from typing import List, Any\n",
    "\n",
    "@function_tool\n",
    "def get_weather(city: str) -> str:\n",
    "    \"\"\"Returns weather info for the specified city.\"\"\"\n",
    "    return f\"The weather in {city} is sunny\"\n",
    "\n",
    "def custom_tool_handler(\n",
    "    context: RunContextWrapper[Any],\n",
    "    tool_results: List[FunctionToolResult]\n",
    ") -> ToolsToFinalOutputResult:\n",
    "    \"\"\"Processes tool results to decide final output.\"\"\"\n",
    "    for result in tool_results:\n",
    "        if result.output and \"sunny\" in result.output:\n",
    "            return ToolsToFinalOutputResult(\n",
    "                is_final_output=True,\n",
    "                final_output=f\"Final weather: {result.output}\"\n",
    "            )\n",
    "    return ToolsToFinalOutputResult(\n",
    "        is_final_output=False,\n",
    "        final_output=None\n",
    "    )\n",
    "\n",
    "agent = Agent(\n",
    "    name=\"Weather Agent\",\n",
    "    instructions=\"Retrieve weather details.\",\n",
    "    tools=[get_weather],\n",
    "    tool_use_behavior=custom_tool_handler\n",
    ")"
   ]
  },
  {
   "cell_type": "markdown",
   "id": "8129eb1d",
   "metadata": {},
   "source": [
    "To prevent infinite loops, the framework automatically resets tool_choice to \"auto\" after a tool call. This behavior is configurable via agent.reset_tool_choice. The infinite loop is because tool results are sent to the LLM, which then generates another tool call because of tool_choice, ad infinitum.\n",
    "\n",
    "لامحدود لوپس کو روکنے کے لیے، فریم ورک ٹول کال کے بعد ٹول_چوائس کو خود بخود \"آٹو\" پر ری سیٹ کر دیتا ہے۔ یہ سلوک agent.reset_tool_choice کے ذریعے قابل ترتیب ہے۔ لامحدود لوپ اس لیے ہے کہ ٹول کے نتائج LLM کو بھیجے جاتے ہیں، جو پھر tool_choice، ad infinitum کی وجہ سے ایک اور ٹول کال تیار کرتا ہے۔"
   ]
  }
 ],
 "metadata": {
  "language_info": {
   "name": "python"
  }
 },
 "nbformat": 4,
 "nbformat_minor": 5
}
